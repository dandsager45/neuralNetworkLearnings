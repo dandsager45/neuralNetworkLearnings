{
 "cells": [
  {
   "cell_type": "markdown",
   "id": "20ec610e",
   "metadata": {},
   "source": [
    "Single Neuron w/ 3 inputs"
   ]
  },
  {
   "cell_type": "code",
   "execution_count": 2,
   "id": "ec5fc148",
   "metadata": {},
   "outputs": [],
   "source": [
    "inputs = [1, 2, 3]"
   ]
  },
  {
   "cell_type": "code",
   "execution_count": 13,
   "id": "5897d845",
   "metadata": {},
   "outputs": [],
   "source": [
    "weights = [0.2, 0.8, -0.5]"
   ]
  },
  {
   "cell_type": "code",
   "execution_count": 14,
   "id": "d6a76d48",
   "metadata": {},
   "outputs": [],
   "source": [
    "bias = 2"
   ]
  },
  {
   "cell_type": "code",
   "execution_count": 15,
   "id": "8939228a",
   "metadata": {},
   "outputs": [],
   "source": [
    "output = (inputs[0] * weights[0] +\n",
    "inputs[1] * weights[1] +\n",
    "inputs[2] * weights[2] + bias)"
   ]
  },
  {
   "cell_type": "code",
   "execution_count": 16,
   "id": "5f3517ba",
   "metadata": {},
   "outputs": [
    {
     "name": "stdout",
     "output_type": "stream",
     "text": [
      "2.3\n"
     ]
    }
   ],
   "source": [
    "print (output)"
   ]
  },
  {
   "cell_type": "markdown",
   "id": "c72cbb64",
   "metadata": {},
   "source": [
    "Single Neuron w/ 4 inputs: "
   ]
  },
  {
   "cell_type": "code",
   "execution_count": 19,
   "id": "9458a487",
   "metadata": {},
   "outputs": [
    {
     "name": "stdout",
     "output_type": "stream",
     "text": [
      "4.8\n"
     ]
    }
   ],
   "source": [
    "inputs = [1.0, 2.0, 3.0, 2.5];\n",
    "weights = [0.2, 0.8, -0.5, 1.0];\n",
    "bias = 2;\n",
    "output = (inputs[0] * weights[0] +\n",
    "inputs[1] * weights[1] +\n",
    "inputs[2] * weights[2] + \n",
    "inputs[3] * weights[3] + bias)\n",
    "print (output)\n",
    "\n"
   ]
  }
 ],
 "metadata": {
  "kernelspec": {
   "display_name": "Python 3 (ipykernel)",
   "language": "python",
   "name": "python3"
  },
  "language_info": {
   "codemirror_mode": {
    "name": "ipython",
    "version": 3
   },
   "file_extension": ".py",
   "mimetype": "text/x-python",
   "name": "python",
   "nbconvert_exporter": "python",
   "pygments_lexer": "ipython3",
   "version": "3.8.6"
  }
 },
 "nbformat": 4,
 "nbformat_minor": 5
}
