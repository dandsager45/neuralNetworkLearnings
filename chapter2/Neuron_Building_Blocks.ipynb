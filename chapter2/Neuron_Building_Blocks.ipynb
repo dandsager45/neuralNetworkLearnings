{
 "cells": [
  {
   "cell_type": "markdown",
   "id": "555f430b",
   "metadata": {},
   "source": [
    "Single Neuron w/ 3 inputs"
   ]
  },
  {
   "cell_type": "code",
   "execution_count": 2,
   "id": "a4eec7c9",
   "metadata": {},
   "outputs": [],
   "source": [
    "inputs = [1, 2, 3]"
   ]
  },
  {
   "cell_type": "code",
   "execution_count": 13,
   "id": "b560fd3f",
   "metadata": {},
   "outputs": [],
   "source": [
    "weights = [0.2, 0.8, -0.5]"
   ]
  },
  {
   "cell_type": "code",
   "execution_count": 14,
   "id": "c306ba19",
   "metadata": {},
   "outputs": [],
   "source": [
    "bias = 2"
   ]
  },
  {
   "cell_type": "code",
   "execution_count": 15,
   "id": "f935a718",
   "metadata": {},
   "outputs": [],
   "source": [
    "output = (inputs[0] * weights[0] +\n",
    "inputs[1] * weights[1] +\n",
    "inputs[2] * weights[2] + bias)"
   ]
  },
  {
   "cell_type": "code",
   "execution_count": 16,
   "id": "ba9ec1e2",
   "metadata": {},
   "outputs": [
    {
     "name": "stdout",
     "output_type": "stream",
     "text": [
      "2.3\n"
     ]
    }
   ],
   "source": [
    "print (output)"
   ]
  },
  {
   "cell_type": "markdown",
   "id": "353dfbb0",
   "metadata": {},
   "source": [
    "Single Neuron w/ 4 inputs: "
   ]
  },
  {
   "cell_type": "code",
   "execution_count": 19,
   "id": "69e35b45",
   "metadata": {},
   "outputs": [
    {
     "name": "stdout",
     "output_type": "stream",
     "text": [
      "4.8\n"
     ]
    }
   ],
   "source": [
    "inputs = [1.0, 2.0, 3.0, 2.5];\n",
    "weights = [0.2, 0.8, -0.5, 1.0];\n",
    "bias = 2;\n",
    "output = (inputs[0] * weights[0] +\n",
    "inputs[1] * weights[1] +\n",
    "inputs[2] * weights[2] + \n",
    "inputs[3] * weights[3] + bias)\n",
    "print (output)\n",
    "\n"
   ]
  },
  {
   "cell_type": "markdown",
   "id": "da311c92",
   "metadata": {},
   "source": [
    "Layer of Neurons"
   ]
  },
  {
   "cell_type": "code",
   "execution_count": 21,
   "id": "b0c3d276",
   "metadata": {},
   "outputs": [
    {
     "name": "stdout",
     "output_type": "stream",
     "text": [
      "[4.8, 1.21, 2.385]\n"
     ]
    }
   ],
   "source": [
    "inputs = [1.0, 2.0, 3.0, 2.5];\n",
    "\n",
    "weights1 = [0.2, 0.8, -0.5, 1.0];\n",
    "weights2 = [0.5, -0.91, 0.26, -0.5];\n",
    "weights3 = [-0.26, -0.27, 0.17, 0.87];\n",
    "\n",
    "bias1 = 2;\n",
    "bias2 = 3;\n",
    "bias3 = 0.5;\n",
    "\n",
    "outputs = [\n",
    "    #Neruon 1:\n",
    "    inputs[0] * weights1[0] +\n",
    "    inputs[1] * weights1[1] +\n",
    "    inputs[2] * weights1[2] + \n",
    "    inputs[3] * weights1[3] + bias1,\n",
    "    #Neruon 2:\n",
    "    inputs[0] * weights2[0] +\n",
    "    inputs[1] * weights2[1] +\n",
    "    inputs[2] * weights2[2] + \n",
    "    inputs[3] * weights2[3] + bias2,\n",
    "    #Neruon 3:\n",
    "    inputs[0] * weights3[0] +\n",
    "    inputs[1] * weights3[1] +\n",
    "    inputs[2] * weights3[2] + \n",
    "    inputs[3] * weights3[3] + bias3];\n",
    "print (outputs)"
   ]
  },
  {
   "cell_type": "markdown",
   "id": "885356d2",
   "metadata": {},
   "source": [
    "Looping to scale code as thing can get challenging to code using this current method. "
   ]
  },
  {
   "cell_type": "code",
   "execution_count": 30,
   "id": "dd326710",
   "metadata": {},
   "outputs": [
    {
     "name": "stdout",
     "output_type": "stream",
     "text": [
      "[4.8, 1.21, 2.385]\n"
     ]
    }
   ],
   "source": [
    "inputs = [1.0, 2.0, 3.0, 2.5];\n",
    "weights = [[0.2, 0.8, -0.5, 1.0], \n",
    "          [0.5, -0.91, 0.26, -0.5],\n",
    "           [-0.26, -0.27, 0.17, 0.87]];\n",
    "biases = [2, 3, 0.5];\n",
    "\n",
    "# Output of current layer\n",
    "layer_outputs = []\n",
    "# For each neruon\n",
    "for neuron_weights, neuron_bias in zip(weights, biases):\n",
    "    # Zeroed output of given neuron\n",
    "    neuron_output = 0\n",
    "    # For each input and weight to the neuron\n",
    "    for n_input,weight in zip(inputs,neuron_weights):\n",
    "        # Multiply this input by associated weight\n",
    "        # and add to the neuron's output variable\n",
    "        neuron_output += n_input * weight\n",
    "    # add bias\n",
    "    neuron_output += neuron_bias\n",
    "    # Put neuron's result to the layer's output list\n",
    "    layer_outputs.append(neuron_output)\n",
    "print (layer_outputs)     "
   ]
  },
  {
   "cell_type": "markdown",
   "id": "16a70f99",
   "metadata": {},
   "source": [
    "This does the sasme thing as before, just in a more dynamic and scalable way. \n"
   ]
  }
 ],
 "metadata": {
  "kernelspec": {
   "display_name": "Python 3 (ipykernel)",
   "language": "python",
   "name": "python3"
  },
  "language_info": {
   "codemirror_mode": {
    "name": "ipython",
    "version": 3
   },
   "file_extension": ".py",
   "mimetype": "text/x-python",
   "name": "python",
   "nbconvert_exporter": "python",
   "pygments_lexer": "ipython3",
   "version": "3.8.6"
  }
 },
 "nbformat": 4,
 "nbformat_minor": 5
}
